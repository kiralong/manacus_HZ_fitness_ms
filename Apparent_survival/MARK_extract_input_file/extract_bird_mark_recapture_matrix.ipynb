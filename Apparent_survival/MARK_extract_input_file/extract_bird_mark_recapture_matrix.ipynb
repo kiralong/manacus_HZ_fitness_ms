{
 "cells": [
  {
   "cell_type": "markdown",
   "id": "46ae5e73",
   "metadata": {},
   "source": [
    "# Extract Mark Recapture Matrix"
   ]
  },
  {
   "cell_type": "code",
   "execution_count": 1,
   "id": "141834e2",
   "metadata": {},
   "outputs": [],
   "source": [
    "# Imports\n",
    "\n",
    "import pandas as pd\n",
    "import functools"
   ]
  },
  {
   "cell_type": "code",
   "execution_count": 2,
   "id": "8688cfb5",
   "metadata": {},
   "outputs": [],
   "source": [
    "# Parameters\n",
    "data_directory = \"data/\"\n",
    "input_data_filename = \"/Users/kiraroo/Google Drive/Bioinformatics/Chapter_3/MARK_recapture_analyses/only_pops2910_3_years/Capture_records_2017_2019_pops2_9_10.tsv\"\n",
    "output_filename = \"/Users/kiraroo/Google Drive/Bioinformatics/Chapter_3/MARK_recapture_analyses/only_pops2910_3_years/Manacus_3years_3pops.inp\"\n"
   ]
  },
  {
   "cell_type": "code",
   "execution_count": 3,
   "id": "25e1eaeb",
   "metadata": {
    "scrolled": true
   },
   "outputs": [
    {
     "name": "stdout",
     "output_type": "stream",
     "text": [
      "       Date   Time         Location  Population  Lek Species Racap?  Band #  \\\n",
      "0    3/9/17  11:47  Chiriqui Grande          10    1     Vit      N      62   \n",
      "1    3/9/17  11:47  Chiriqui Grande          10    1     Vit      N      63   \n",
      "2    3/9/17   1:12  Chiriqui Grande          10    1     Vit      N      64   \n",
      "3    3/9/17   1:12  Chiriqui Grande          10    1     Vit      N      65   \n",
      "4    3/9/17   2:45  Chiriqui Grande          10    1     Vit      N      66   \n",
      "..      ...    ...              ...         ...  ...     ...    ...     ...   \n",
      "721  7/5/19   9:30    San San Drury           2    3     Can      N     504   \n",
      "722  7/5/19  10:00    San San Drury           2    3     Can      N     505   \n",
      "723  7/5/19  10:30    San San Drury           2    3     Can      N     506   \n",
      "724  7/6/19   3:00       Palma Real           9    2     Hyb      R     121   \n",
      "725  7/6/19   1:30       Palma Real           9    2     Hyb      N     507   \n",
      "\n",
      "    Color Band Combo Age  ... Molt  Parasites  Blood Taken  Slide Made  \\\n",
      "0      L_or/0 R_bw/a   D  ...   no     1 tick           60         yes   \n",
      "1       L_w/0 R_bw/a   D  ...   no         no           60         yes   \n",
      "2       L_g/0 R_bw/a   U  ...   no         no           70         yes   \n",
      "3       L_n/0 R_bw/a   D  ...   no         no           60         yes   \n",
      "4       L_r/0 R_bw/a   D  ...   no         no           70         yes   \n",
      "..               ...  ..  ...  ...        ...          ...         ...   \n",
      "721      L_w/w R_a/y   U  ...  yes         no          100          no   \n",
      "722      L_w/n R_a/y   J  ...  yes         no           40          no   \n",
      "723      L_w/g R_a/y   D  ...   no         no           40          no   \n",
      "724      L_r/r R_n/a   D  ...   no         no          NaN          no   \n",
      "725      L_r/w R_a/g   D  ...   no         no           30          no   \n",
      "\n",
      "              Photos  Paintchip_Throat  Paintchip_Belly  Bare Patch on wing  \\\n",
      "0    Vit_062_194-195               2.0              2.0                 NaN   \n",
      "1    Vit_063_196-197               2.0              2.0                 NaN   \n",
      "2    Vit_064_198-199               1.0              2.0                 NaN   \n",
      "3    Vit_065_200-203               2.0              2.0                 NaN   \n",
      "4    Vit_066_204-205               2.0              2.0                 NaN   \n",
      "..               ...               ...              ...                 ...   \n",
      "721        8408-8410               NaN              NaN                  no   \n",
      "722        8411-8413               NaN              NaN                 NaN   \n",
      "723        8414-8416               NaN              NaN                  no   \n",
      "724              NaN               NaN              NaN                 NaN   \n",
      "725        8417-8419               NaN              NaN                  no   \n",
      "\n",
      "     Took Spec. Read                                              Notes  \n",
      "0                yes  1 tick over eye. Throat 2, belly 2. Spec: Vit_...  \n",
      "1                yes      Throat 2, belly 2. Spec: Vit_063_throat/belly  \n",
      "2                yes  Has the start of a brood patch, possible femal...  \n",
      "3                yes      Throat 2, belly 2. Spec: Vit_065_throat/belly  \n",
      "4                yes      Throat 2, belly 2. Spec: Vit_066_throat/belly  \n",
      "..               ...                                                ...  \n",
      "721               no    No bare patches on wrists. Body and tail molt.   \n",
      "722               no  Lots of body molt all over sides and around st...  \n",
      "723               no                          No bare patches on wrists  \n",
      "724               no                    Possible male owner of A_PR2_12  \n",
      "725               no  No bare patches on wrists. Dona clause, old br...  \n",
      "\n",
      "[726 rows x 32 columns]\n",
      "Index(['Date', 'Time', 'Location', 'Population', 'Lek', 'Species', 'Racap?',\n",
      "       'Band #', 'Color Band Combo', 'Age', 'Sex', 'Wing Chord', 'Tail',\n",
      "       'Culmen Length', 'Tarsus Length', 'Beard Length', 'Epaulet Width',\n",
      "       'Wt bird +bag', 'Wt bag', 'Wt Bird', 'Conditon', 'Brood Patch', 'Molt',\n",
      "       'Parasites', 'Blood Taken', 'Slide Made', 'Photos', 'Paintchip_Throat',\n",
      "       'Paintchip_Belly', 'Bare Patch on wing', 'Took Spec. Read', 'Notes'],\n",
      "      dtype='object')\n"
     ]
    }
   ],
   "source": [
    "# Importing the data as a pandas dataframe\n",
    "\n",
    "df = pd.read_csv(input_data_filename, sep='\\t')\n",
    "print(df)\n",
    "print(df.keys())"
   ]
  },
  {
   "cell_type": "code",
   "execution_count": 4,
   "id": "2f418091",
   "metadata": {
    "scrolled": true
   },
   "outputs": [
    {
     "name": "stdout",
     "output_type": "stream",
     "text": [
      "       Date  Band # Species\n",
      "0    3/9/17      62     Vit\n",
      "1    3/9/17      63     Vit\n",
      "2    3/9/17      64     Vit\n",
      "3    3/9/17      65     Vit\n",
      "4    3/9/17      66     Vit\n",
      "..      ...     ...     ...\n",
      "721  7/5/19     504     Can\n",
      "722  7/5/19     505     Can\n",
      "723  7/5/19     506     Can\n",
      "724  7/6/19     121     Hyb\n",
      "725  7/6/19     507     Hyb\n",
      "\n",
      "[726 rows x 3 columns]\n"
     ]
    }
   ],
   "source": [
    "# Displaying relevant columns for our extraction of bird, species, and capture time for Mark Recapture data.\n",
    "# Date is the date of capture\n",
    "# Band # is the unique ID of the bird (via its band)\n",
    "# Species is the species name, or Hybrid of the two.\n",
    "# From these values we can process mark recapture data.\n",
    "\n",
    "df[['Date', 'Band #', 'Species']]\n",
    "print(df[['Date', 'Band #', 'Species']])"
   ]
  },
  {
   "cell_type": "code",
   "execution_count": 5,
   "id": "381368dc",
   "metadata": {},
   "outputs": [
    {
     "name": "stdout",
     "output_type": "stream",
     "text": [
      "['Can', 'Hyb', 'Vit']\n"
     ]
    }
   ],
   "source": [
    "# Debugging Species values for typos\n",
    "unique_species_values = df['Species'].unique()\n",
    "print(sorted(unique_species_values))\n",
    "\n",
    "# Map Species to Species bit flag columns\n",
    "# This is a mapping provided by Kira on how to convert Species into a bitwise flag.\n",
    "\n",
    "species_mapping = {\n",
    "    \"Can\": [1,0,0],\n",
    "    \"Hyb\": [0,1,0],\n",
    "    \"Vit\": [0,0,1]\n",
    "}"
   ]
  },
  {
   "cell_type": "markdown",
   "id": "ec775355",
   "metadata": {},
   "source": [
    "In words/pseudocode, the algorithm is:\n",
    "\n",
    "Phase 1: Do an initial scan of the dates to get the set of years and set up year columns in the result matrix.\n",
    "- Note that these year-wise columns are actually squished together into a single column.\n",
    "\n",
    "Phase 2: For each row in the input data, add the capture to the result matrix."
   ]
  },
  {
   "cell_type": "code",
   "execution_count": 6,
   "id": "1e1dc8ec",
   "metadata": {},
   "outputs": [
    {
     "name": "stdout",
     "output_type": "stream",
     "text": [
      "['2017', '2018', '2019']\n"
     ]
    }
   ],
   "source": [
    "# Gather Years for Columns\n",
    "\n",
    "def convert_date_to_year(date):\n",
    "    year = date.split(\"/\")[-1]\n",
    "    year = \"20\" + year # Date Representation isn't full year, add the 20 in 20XX\n",
    "    return year\n",
    "\n",
    "def reduce_to_years(years, date):\n",
    "    year = convert_date_to_year(date)\n",
    "    if (year not in years):\n",
    "        years.append(year)\n",
    "    return years\n",
    "    \n",
    "dates = df['Date'].tolist()\n",
    "years = functools.reduce(reduce_to_years, dates, [])\n",
    "years.sort()\n",
    "print(years)"
   ]
  },
  {
   "cell_type": "code",
   "execution_count": 7,
   "id": "b78bb66a",
   "metadata": {},
   "outputs": [
    {
     "name": "stdout",
     "output_type": "stream",
     "text": [
      "{'species': None, '2017': False, '2018': False, '2019': False}\n"
     ]
    }
   ],
   "source": [
    "# Prepare Result Data Structure (Not a matrix yet, will transform into a matrix/data frame later)\n",
    "# Mark Recapture only needs the boolean value of whether a bird was captured that year. \n",
    "# In the final result, will be represented by 1 = true and 0 = false.\n",
    "\n",
    "# The overall object is a dictionary where the key is the band_number, and\n",
    "# the corresponding value in the key-value pair are also dictionaries with Year: Boolean initialized to false\n",
    "results = {}\n",
    "\n",
    "# This is the template object to *copy* in as needed when creating new entries\n",
    "templateMarkRecaptureDataByYear = {\n",
    "    \"species\": None\n",
    "}\n",
    "\n",
    "for year in years:\n",
    "    templateMarkRecaptureDataByYear[year] = False\n",
    "print(templateMarkRecaptureDataByYear)"
   ]
  },
  {
   "cell_type": "code",
   "execution_count": 8,
   "id": "3ec763e7",
   "metadata": {
    "tags": [
     "outputPrepend"
    ]
   },
   "outputs": [
    {
     "name": "stdout",
     "output_type": "stream",
     "text": [
      "{62: {'species': [0, 0, 1], '2017': True, '2018': False, '2019': False}, 63: {'species': [0, 0, 1], '2017': True, '2018': True, '2019': True}, 64: {'species': [0, 0, 1], '2017': True, '2018': True, '2019': False}, 65: {'species': [0, 0, 1], '2017': True, '2018': False, '2019': False}, 66: {'species': [0, 0, 1], '2017': True, '2018': True, '2019': True}, 67: {'species': [0, 0, 1], '2017': True, '2018': False, '2019': False}, 68: {'species': [0, 0, 1], '2017': True, '2018': False, '2019': False}, 69: {'species': [0, 0, 1], '2017': True, '2018': True, '2019': True}, 70: {'species': [0, 0, 1], '2017': True, '2018': True, '2019': False}, 71: {'species': [1, 0, 0], '2017': True, '2018': True, '2019': False}, 72: {'species': [1, 0, 0], '2017': True, '2018': True, '2019': False}, 73: {'species': [1, 0, 0], '2017': True, '2018': True, '2019': False}, 74: {'species': [1, 0, 0], '2017': True, '2018': False, '2019': False}, 75: {'species': [1, 0, 0], '2017': True, '2018': False, '2019': False}, 76: {'species': [1, 0, 0], '2017': True, '2018': True, '2019': False}, 77: {'species': [1, 0, 0], '2017': True, '2018': False, '2019': False}, 78: {'species': [1, 0, 0], '2017': True, '2018': False, '2019': False}, 79: {'species': [1, 0, 0], '2017': True, '2018': False, '2019': False}, 80: {'species': [1, 0, 0], '2017': True, '2018': True, '2019': False}, 81: {'species': [1, 0, 0], '2017': True, '2018': False, '2019': False}, 82: {'species': [1, 0, 0], '2017': True, '2018': False, '2019': False}, 83: {'species': [1, 0, 0], '2017': True, '2018': False, '2019': False}, 84: {'species': [1, 0, 0], '2017': True, '2018': True, '2019': False}, 85: {'species': [1, 0, 0], '2017': True, '2018': False, '2019': False}, 86: {'species': [1, 0, 0], '2017': True, '2018': False, '2019': False}, 87: {'species': [1, 0, 0], '2017': True, '2018': True, '2019': False}, 88: {'species': [1, 0, 0], '2017': True, '2018': False, '2019': False}, 89: {'species': [1, 0, 0], '2017': True, '2018': False, '2019': False}, 90: {'species': [1, 0, 0], '2017': True, '2018': False, '2019': False}, 91: {'species': [0, 0, 1], '2017': True, '2018': False, '2019': False}, 92: {'species': [0, 0, 1], '2017': True, '2018': False, '2019': False}, 93: {'species': [0, 0, 1], '2017': True, '2018': False, '2019': False}, 94: {'species': [0, 0, 1], '2017': True, '2018': False, '2019': False}, 95: {'species': [0, 1, 0], '2017': True, '2018': False, '2019': False}, 96: {'species': [0, 1, 0], '2017': True, '2018': False, '2019': False}, 97: {'species': [0, 1, 0], '2017': True, '2018': False, '2019': False}, 98: {'species': [0, 1, 0], '2017': True, '2018': False, '2019': False}, 99: {'species': [0, 1, 0], '2017': True, '2018': False, '2019': False}, 100: {'species': [0, 1, 0], '2017': True, '2018': False, '2019': False}, 101: {'species': [0, 1, 0], '2017': True, '2018': False, '2019': False}, 102: {'species': [0, 1, 0], '2017': True, '2018': False, '2019': False}, 103: {'species': [0, 1, 0], '2017': True, '2018': False, '2019': False}, 104: {'species': [0, 0, 1], '2017': True, '2018': True, '2019': False}, 105: {'species': [0, 0, 1], '2017': True, '2018': True, '2019': False}, 106: {'species': [0, 0, 1], '2017': True, '2018': True, '2019': False}, 107: {'species': [0, 0, 1], '2017': True, '2018': False, '2019': False}, 108: {'species': [0, 0, 1], '2017': True, '2018': True, '2019': True}, 109: {'species': [0, 0, 1], '2017': True, '2018': True, '2019': False}, 110: {'species': [0, 0, 1], '2017': True, '2018': True, '2019': False}, 111: {'species': [0, 1, 0], '2017': True, '2018': False, '2019': False}, 112: {'species': [0, 1, 0], '2017': True, '2018': False, '2019': False}, 113: {'species': [0, 1, 0], '2017': True, '2018': True, '2019': True}, 114: {'species': [0, 1, 0], '2017': True, '2018': True, '2019': True}, 115: {'species': [0, 1, 0], '2017': True, '2018': True, '2019': False}, 116: {'species': [0, 1, 0], '2017': True, '2018': True, '2019': True}, 117: {'species': [0, 1, 0], '2017': True, '2018': False, '2019': False}, 118: {'species': [0, 1, 0], '2017': True, '2018': False, '2019': False}, 119: {'species': [0, 1, 0], '2017': True, '2018': True, '2019': True}, 120: {'species': [0, 1, 0], '2017': True, '2018': False, '2019': True}, 121: {'species': [0, 1, 0], '2017': True, '2018': True, '2019': True}, 122: {'species': [0, 1, 0], '2017': True, '2018': False, '2019': True}, 123: {'species': [1, 0, 0], '2017': True, '2018': True, '2019': False}, 124: {'species': [1, 0, 0], '2017': True, '2018': False, '2019': False}, 125: {'species': [1, 0, 0], '2017': True, '2018': False, '2019': False}, 126: {'species': [1, 0, 0], '2017': True, '2018': False, '2019': False}, 127: {'species': [1, 0, 0], '2017': True, '2018': True, '2019': False}, 128: {'species': [1, 0, 0], '2017': True, '2018': False, '2019': False}, 129: {'species': [1, 0, 0], '2017': True, '2018': False, '2019': False}, 130: {'species': [1, 0, 0], '2017': True, '2018': False, '2019': False}, 131: {'species': [1, 0, 0], '2017': True, '2018': False, '2019': False}, 132: {'species': [1, 0, 0], '2017': True, '2018': True, '2019': False}, 133: {'species': [0, 0, 1], '2017': True, '2018': True, '2019': False}, 134: {'species': [0, 0, 1], '2017': True, '2018': False, '2019': True}, 135: {'species': [0, 0, 1], '2017': True, '2018': False, '2019': False}, 136: {'species': [0, 0, 1], '2017': True, '2018': False, '2019': False}, 137: {'species': [1, 0, 0], '2017': True, '2018': False, '2019': False}, 138: {'species': [1, 0, 0], '2017': True, '2018': False, '2019': False}, 139: {'species': [1, 0, 0], '2017': True, '2018': False, '2019': False}, 140: {'species': [0, 0, 1], '2017': True, '2018': False, '2019': False}, 141: {'species': [1, 0, 0], '2017': True, '2018': False, '2019': False}, 142: {'species': [1, 0, 0], '2017': True, '2018': False, '2019': False}, 143: {'species': [1, 0, 0], '2017': True, '2018': False, '2019': False}, 144: {'species': [1, 0, 0], '2017': True, '2018': True, '2019': True}, 145: {'species': [1, 0, 0], '2017': True, '2018': False, '2019': True}, 146: {'species': [1, 0, 0], '2017': True, '2018': False, '2019': False}, 147: {'species': [1, 0, 0], '2017': True, '2018': True, '2019': False}, 148: {'species': [1, 0, 0], '2017': True, '2018': False, '2019': False}, 149: {'species': [1, 0, 0], '2017': True, '2018': False, '2019': False}, 150: {'species': [1, 0, 0], '2017': True, '2018': False, '2019': False}, 151: {'species': [0, 0, 1], '2017': True, '2018': False, '2019': False}, 152: {'species': [1, 0, 0], '2017': True, '2018': False, '2019': False}, 153: {'species': [1, 0, 0], '2017': True, '2018': True, '2019': True}, 154: {'species': [1, 0, 0], '2017': True, '2018': False, '2019': False}, 155: {'species': [1, 0, 0], '2017': True, '2018': False, '2019': False}, 156: {'species': [1, 0, 0], '2017': True, '2018': False, '2019': False}, 157: {'species': [1, 0, 0], '2017': True, '2018': True, '2019': False}, 158: {'species': [1, 0, 0], '2017': True, '2018': False, '2019': False}, 159: {'species': [1, 0, 0], '2017': True, '2018': False, '2019': False}, 160: {'species': [1, 0, 0], '2017': True, '2018': False, '2019': False}, 161: {'species': [1, 0, 0], '2017': True, '2018': False, '2019': False}, 162: {'species': [1, 0, 0], '2017': True, '2018': False, '2019': False}, 163: {'species': [0, 0, 1], '2017': True, '2018': False, '2019': False}, 164: {'species': [0, 0, 1], '2017': True, '2018': False, '2019': False}, 165: {'species': [1, 0, 0], '2017': True, '2018': True, '2019': False}, 166: {'species': [1, 0, 0], '2017': True, '2018': False, '2019': False}, 167: {'species': [1, 0, 0], '2017': True, '2018': False, '2019': False}, 168: {'species': [1, 0, 0], '2017': True, '2018': False, '2019': False}, 169: {'species': [0, 0, 1], '2017': True, '2018': False, '2019': False}, 170: {'species': [0, 0, 1], '2017': True, '2018': False, '2019': False}, 171: {'species': [0, 0, 1], '2017': True, '2018': True, '2019': False}, 172: {'species': [1, 0, 0], '2017': True, '2018': False, '2019': False}, 173: {'species': [1, 0, 0], '2017': True, '2018': False, '2019': False}, 174: {'species': [1, 0, 0], '2017': True, '2018': False, '2019': False}, 175: {'species': [0, 0, 1], '2017': True, '2018': False, '2019': False}, 176: {'species': [0, 0, 1], '2017': True, '2018': False, '2019': True}, 177: {'species': [0, 0, 1], '2017': True, '2018': False, '2019': False}, 178: {'species': [0, 0, 1], '2017': True, '2018': False, '2019': False}, 179: {'species': [1, 0, 0], '2017': True, '2018': False, '2019': False}, 180: {'species': [1, 0, 0], '2017': True, '2018': False, '2019': True}, 181: {'species': [0, 0, 1], '2017': True, '2018': False, '2019': False}, 182: {'species': [0, 0, 1], '2017': True, '2018': False, '2019': False}, 183: {'species': [0, 0, 1], '2017': True, '2018': False, '2019': False}, 184: {'species': [1, 0, 0], '2017': True, '2018': False, '2019': False}, 185: {'species': [1, 0, 0], '2017': True, '2018': False, '2019': False}, 186: {'species': [1, 0, 0], '2017': True, '2018': False, '2019': False}, 187: {'species': [1, 0, 0], '2017': True, '2018': False, '2019': False}, 188: {'species': [1, 0, 0], '2017': True, '2018': False, '2019': False}, 196: {'species': [0, 1, 0], '2017': False, '2018': True, '2019': True}, 197: {'species': [0, 1, 0], '2017': False, '2018': True, '2019': True}, 198: {'species': [0, 1, 0], '2017': False, '2018': True, '2019': False}, 199: {'species': [0, 1, 0], '2017': False, '2018': True, '2019': True}, 200: {'species': [0, 1, 0], '2017': False, '2018': True, '2019': True}, 207: {'species': [1, 0, 0], '2017': False, '2018': True, '2019': False}, 208: {'species': [1, 0, 0], '2017': False, '2018': True, '2019': False}, 209: {'species': [1, 0, 0], '2017': False, '2018': True, '2019': True}, 210: {'species': [1, 0, 0], '2017': False, '2018': True, '2019': False}, 211: {'species': [1, 0, 0], '2017': False, '2018': True, '2019': False}, 212: {'species': [1, 0, 0], '2017': False, '2018': True, '2019': False}, 213: {'species': [1, 0, 0], '2017': False, '2018': True, '2019': False}, 214: {'species': [1, 0, 0], '2017': False, '2018': True, '2019': False}, 215: {'species': [1, 0, 0], '2017': False, '2018': True, '2019': False}, 216: {'species': [1, 0, 0], '2017': False, '2018': True, '2019': False}, 217: {'species': [0, 0, 1], '2017': False, '2018': True, '2019': True}, 218: {'species': [0, 0, 1], '2017': False, '2018': True, '2019': False}, 219: {'species': [0, 0, 1], '2017': False, '2018': True, '2019': True}, 220: {'species': [0, 0, 1], '2017': False, '2018': True, '2019': True}, 224: {'species': [0, 0, 1], '2017': False, '2018': True, '2019': True}, 225: {'species': [0, 0, 1], '2017': False, '2018': True, '2019': False}, 230: {'species': [0, 0, 1], '2017': False, '2018': True, '2019': True}, 231: {'species': [0, 1, 0], '2017': False, '2018': True, '2019': True}, 232: {'species': [0, 1, 0], '2017': False, '2018': True, '2019': True}, 233: {'species': [0, 1, 0], '2017': False, '2018': True, '2019': True}, 234: {'species': [0, 1, 0], '2017': False, '2018': True, '2019': False}, 235: {'species': [0, 1, 0], '2017': False, '2018': True, '2019': False}, 236: {'species': [0, 1, 0], '2017': False, '2018': True, '2019': True}, 237: {'species': [0, 1, 0], '2017': False, '2018': True, '2019': False}, 239: {'species': [1, 0, 0], '2017': False, '2018': True, '2019': True}, 240: {'species': [1, 0, 0], '2017': False, '2018': True, '2019': False}, 241: {'species': [1, 0, 0], '2017': False, '2018': True, '2019': False}, 242: {'species': [1, 0, 0], '2017': False, '2018': True, '2019': False}, 243: {'species': [1, 0, 0], '2017': False, '2018': True, '2019': False}, 250: {'species': [0, 0, 1], '2017': False, '2018': True, '2019': False}, 251: {'species': [0, 0, 1], '2017': False, '2018': True, '2019': False}, 252: {'species': [0, 0, 1], '2017': False, '2018': True, '2019': False}, 255: {'species': [1, 0, 0], '2017': False, '2018': True, '2019': True}, 256: {'species': [1, 0, 0], '2017': False, '2018': True, '2019': False}, 257: {'species': [1, 0, 0], '2017': False, '2018': True, '2019': False}, 258: {'species': [1, 0, 0], '2017': False, '2018': True, '2019': False}, 259: {'species': [0, 0, 1], '2017': False, '2018': True, '2019': False}, 260: {'species': [0, 0, 1], '2017': False, '2018': True, '2019': False}, 261: {'species': [0, 0, 1], '2017': False, '2018': True, '2019': True}, 262: {'species': [0, 0, 1], '2017': False, '2018': True, '2019': True}, 263: {'species': [0, 1, 0], '2017': False, '2018': True, '2019': False}, 264: {'species': [1, 0, 0], '2017': False, '2018': True, '2019': False}, 265: {'species': [1, 0, 0], '2017': False, '2018': True, '2019': True}, 266: {'species': [1, 0, 0], '2017': False, '2018': True, '2019': True}, 267: {'species': [0, 0, 1], '2017': False, '2018': True, '2019': False}, 268: {'species': [0, 0, 1], '2017': False, '2018': True, '2019': False}, 269: {'species': [0, 0, 1], '2017': False, '2018': True, '2019': True}, 270: {'species': [1, 0, 0], '2017': False, '2018': True, '2019': False}, 271: {'species': [0, 1, 0], '2017': False, '2018': True, '2019': True}, 272: {'species': [0, 1, 0], '2017': False, '2018': True, '2019': False}, 273: {'species': [1, 0, 0], '2017': False, '2018': True, '2019': True}, 274: {'species': [1, 0, 0], '2017': False, '2018': True, '2019': False}, 275: {'species': [1, 0, 0], '2017': False, '2018': True, '2019': False}, 276: {'species': [0, 1, 0], '2017': False, '2018': True, '2019': True}, 277: {'species': [1, 0, 0], '2017': False, '2018': True, '2019': False}, 278: {'species': [0, 1, 0], '2017': False, '2018': True, '2019': False}, 279: {'species': [0, 0, 1], '2017': False, '2018': True, '2019': True}, 280: {'species': [0, 0, 1], '2017': False, '2018': True, '2019': False}, 281: {'species': [0, 1, 0], '2017': False, '2018': True, '2019': False}, 282: {'species': [0, 1, 0], '2017': False, '2018': True, '2019': False}, 283: {'species': [0, 1, 0], '2017': False, '2018': True, '2019': True}, 284: {'species': [1, 0, 0], '2017': False, '2018': True, '2019': False}, 285: {'species': [1, 0, 0], '2017': False, '2018': True, '2019': False}, 286: {'species': [1, 0, 0], '2017': False, '2018': True, '2019': False}, 287: {'species': [0, 1, 0], '2017': False, '2018': True, '2019': False}, 288: {'species': [0, 1, 0], '2017': False, '2018': True, '2019': True}, 289: {'species': [0, 1, 0], '2017': False, '2018': True, '2019': True}, 290: {'species': [1, 0, 0], '2017': False, '2018': True, '2019': False}, 291: {'species': [1, 0, 0], '2017': False, '2018': True, '2019': False}, 292: {'species': [1, 0, 0], '2017': False, '2018': True, '2019': False}, 293: {'species': [1, 0, 0], '2017': False, '2018': True, '2019': False}, 294: {'species': [1, 0, 0], '2017': False, '2018': True, '2019': False}, 295: {'species': [0, 1, 0], '2017': False, '2018': True, '2019': False}, 296: {'species': [0, 1, 0], '2017': False, '2018': True, '2019': False}, 297: {'species': [0, 1, 0], '2017': False, '2018': True, '2019': True}, 298: {'species': [1, 0, 0], '2017': False, '2018': True, '2019': False}, 299: {'species': [1, 0, 0], '2017': False, '2018': True, '2019': False}, 300: {'species': [1, 0, 0], '2017': False, '2018': True, '2019': False}, 301: {'species': [1, 0, 0], '2017': False, '2018': True, '2019': False}, 302: {'species': [0, 0, 1], '2017': False, '2018': True, '2019': False}, 304: {'species': [1, 0, 0], '2017': False, '2018': True, '2019': True}, 305: {'species': [1, 0, 0], '2017': False, '2018': True, '2019': False}, 306: {'species': [0, 1, 0], '2017': False, '2018': True, '2019': True}, 307: {'species': [1, 0, 0], '2017': False, '2018': True, '2019': True}, 308: {'species': [1, 0, 0], '2017': False, '2018': True, '2019': False}, 309: {'species': [1, 0, 0], '2017': False, '2018': True, '2019': True}, 310: {'species': [1, 0, 0], '2017': False, '2018': True, '2019': False}, 311: {'species': [0, 0, 1], '2017': False, '2018': True, '2019': False}, 312: {'species': [1, 0, 0], '2017': False, '2018': True, '2019': True}, 313: {'species': [1, 0, 0], '2017': False, '2018': True, '2019': True}, 314: {'species': [1, 0, 0], '2017': False, '2018': True, '2019': False}, 315: {'species': [1, 0, 0], '2017': False, '2018': True, '2019': False}, 316: {'species': [1, 0, 0], '2017': False, '2018': True, '2019': True}, 317: {'species': [1, 0, 0], '2017': False, '2018': True, '2019': True}, 318: {'species': [1, 0, 0], '2017': False, '2018': True, '2019': False}, 319: {'species': [1, 0, 0], '2017': False, '2018': True, '2019': False}, 320: {'species': [1, 0, 0], '2017': False, '2018': True, '2019': True}, 321: {'species': [1, 0, 0], '2017': False, '2018': True, '2019': True}, 322: {'species': [1, 0, 0], '2017': False, '2018': True, '2019': True}, 323: {'species': [1, 0, 0], '2017': False, '2018': True, '2019': True}, 324: {'species': [1, 0, 0], '2017': False, '2018': True, '2019': True}, 325: {'species': [1, 0, 0], '2017': False, '2018': True, '2019': False}, 326: {'species': [0, 1, 0], '2017': False, '2018': False, '2019': True}, 330: {'species': [0, 1, 0], '2017': False, '2018': False, '2019': True}, 327: {'species': [1, 0, 0], '2017': False, '2018': False, '2019': True}, 328: {'species': [1, 0, 0], '2017': False, '2018': False, '2019': True}, 329: {'species': [1, 0, 0], '2017': False, '2018': False, '2019': True}, 331: {'species': [0, 1, 0], '2017': False, '2018': False, '2019': True}, 332: {'species': [0, 1, 0], '2017': False, '2018': False, '2019': True}, 333: {'species': [0, 1, 0], '2017': False, '2018': False, '2019': True}, 334: {'species': [0, 1, 0], '2017': False, '2018': False, '2019': True}, 335: {'species': [0, 1, 0], '2017': False, '2018': False, '2019': True}, 336: {'species': [0, 1, 0], '2017': False, '2018': False, '2019': True}, 337: {'species': [0, 1, 0], '2017': False, '2018': False, '2019': True}, 338: {'species': [0, 1, 0], '2017': False, '2018': False, '2019': True}, 339: {'species': [0, 1, 0], '2017': False, '2018': False, '2019': True}, 340: {'species': [0, 1, 0], '2017': False, '2018': False, '2019': True}, 341: {'species': [1, 0, 0], '2017': False, '2018': False, '2019': True}, 342: {'species': [1, 0, 0], '2017': False, '2018': False, '2019': True}, 343: {'species': [1, 0, 0], '2017': False, '2018': False, '2019': True}, 344: {'species': [1, 0, 0], '2017': False, '2018': False, '2019': True}, 345: {'species': [1, 0, 0], '2017': False, '2018': False, '2019': True}, 346: {'species': [1, 0, 0], '2017': False, '2018': False, '2019': True}, 347: {'species': [1, 0, 0], '2017': False, '2018': False, '2019': True}, 348: {'species': [1, 0, 0], '2017': False, '2018': False, '2019': True}, 349: {'species': [0, 0, 1], '2017': False, '2018': False, '2019': True}, 350: {'species': [0, 0, 1], '2017': False, '2018': False, '2019': True}, 351: {'species': [0, 1, 0], '2017': False, '2018': False, '2019': True}, 352: {'species': [0, 1, 0], '2017': False, '2018': False, '2019': True}, 353: {'species': [0, 1, 0], '2017': False, '2018': False, '2019': True}, 354: {'species': [1, 0, 0], '2017': False, '2018': False, '2019': True}, 355: {'species': [1, 0, 0], '2017': False, '2018': False, '2019': True}, 356: {'species': [1, 0, 0], '2017': False, '2018': False, '2019': True}, 357: {'species': [1, 0, 0], '2017': False, '2018': False, '2019': True}, 358: {'species': [1, 0, 0], '2017': False, '2018': False, '2019': True}, 359: {'species': [0, 1, 0], '2017': False, '2018': False, '2019': True}, 360: {'species': [0, 1, 0], '2017': False, '2018': False, '2019': True}, 361: {'species': [0, 1, 0], '2017': False, '2018': False, '2019': True}, 362: {'species': [0, 1, 0], '2017': False, '2018': False, '2019': True}, 363: {'species': [0, 1, 0], '2017': False, '2018': False, '2019': True}, 364: {'species': [0, 1, 0], '2017': False, '2018': False, '2019': True}, 365: {'species': [0, 1, 0], '2017': False, '2018': False, '2019': True}, 366: {'species': [1, 0, 0], '2017': False, '2018': False, '2019': True}, 367: {'species': [1, 0, 0], '2017': False, '2018': False, '2019': True}, 368: {'species': [1, 0, 0], '2017': False, '2018': False, '2019': True}, 369: {'species': [1, 0, 0], '2017': False, '2018': False, '2019': True}, 370: {'species': [0, 1, 0], '2017': False, '2018': False, '2019': True}, 371: {'species': [0, 1, 0], '2017': False, '2018': False, '2019': True}, 372: {'species': [0, 1, 0], '2017': False, '2018': False, '2019': True}, 373: {'species': [1, 0, 0], '2017': False, '2018': False, '2019': True}, 374: {'species': [1, 0, 0], '2017': False, '2018': False, '2019': True}, 375: {'species': [0, 0, 1], '2017': False, '2018': False, '2019': True}, 376: {'species': [0, 1, 0], '2017': False, '2018': False, '2019': True}, 377: {'species': [0, 1, 0], '2017': False, '2018': False, '2019': True}, 378: {'species': [0, 1, 0], '2017': False, '2018': False, '2019': True}, 379: {'species': [0, 1, 0], '2017': False, '2018': False, '2019': True}, 380: {'species': [1, 0, 0], '2017': False, '2018': False, '2019': True}, 381: {'species': [1, 0, 0], '2017': False, '2018': False, '2019': True}, 382: {'species': [1, 0, 0], '2017': False, '2018': False, '2019': True}, 383: {'species': [1, 0, 0], '2017': False, '2018': False, '2019': True}, 384: {'species': [1, 0, 0], '2017': False, '2018': False, '2019': True}, 385: {'species': [1, 0, 0], '2017': False, '2018': False, '2019': True}, 386: {'species': [0, 1, 0], '2017': False, '2018': False, '2019': True}, 387: {'species': [0, 1, 0], '2017': False, '2018': False, '2019': True}, 388: {'species': [0, 1, 0], '2017': False, '2018': False, '2019': True}, 389: {'species': [0, 1, 0], '2017': False, '2018': False, '2019': True}, 391: {'species': [1, 0, 0], '2017': False, '2018': False, '2019': True}, 392: {'species': [1, 0, 0], '2017': False, '2018': False, '2019': True}, 393: {'species': [1, 0, 0], '2017': False, '2018': False, '2019': True}, 394: {'species': [0, 1, 0], '2017': False, '2018': False, '2019': True}, 395: {'species': [0, 1, 0], '2017': False, '2018': False, '2019': True}, 396: {'species': [1, 0, 0], '2017': False, '2018': False, '2019': True}, 397: {'species': [1, 0, 0], '2017': False, '2018': False, '2019': True}, 398: {'species': [1, 0, 0], '2017': False, '2018': False, '2019': True}, 399: {'species': [0, 1, 0], '2017': False, '2018': False, '2019': True}, 400: {'species': [0, 1, 0], '2017': False, '2018': False, '2019': True}, 401: {'species': [0, 1, 0], '2017': False, '2018': False, '2019': True}, 402: {'species': [0, 1, 0], '2017': False, '2018': False, '2019': True}, 403: {'species': [0, 1, 0], '2017': False, '2018': False, '2019': True}, 404: {'species': [0, 1, 0], '2017': False, '2018': False, '2019': True}, 405: {'species': [0, 1, 0], '2017': False, '2018': False, '2019': True}, 406: {'species': [0, 1, 0], '2017': False, '2018': False, '2019': True}, 407: {'species': [0, 0, 1], '2017': False, '2018': False, '2019': True}, 408: {'species': [0, 1, 0], '2017': False, '2018': False, '2019': True}, 409: {'species': [0, 1, 0], '2017': False, '2018': False, '2019': True}, 410: {'species': [0, 1, 0], '2017': False, '2018': False, '2019': True}, 411: {'species': [0, 1, 0], '2017': False, '2018': False, '2019': True}, 412: {'species': [1, 0, 0], '2017': False, '2018': False, '2019': True}, 413: {'species': [1, 0, 0], '2017': False, '2018': False, '2019': True}, 414: {'species': [0, 1, 0], '2017': False, '2018': False, '2019': True}, 415: {'species': [0, 1, 0], '2017': False, '2018': False, '2019': True}, 416: {'species': [0, 1, 0], '2017': False, '2018': False, '2019': True}, 417: {'species': [0, 1, 0], '2017': False, '2018': False, '2019': True}, 418: {'species': [0, 1, 0], '2017': False, '2018': False, '2019': True}, 419: {'species': [0, 1, 0], '2017': False, '2018': False, '2019': True}, 420: {'species': [0, 1, 0], '2017': False, '2018': False, '2019': True}, 421: {'species': [0, 1, 0], '2017': False, '2018': False, '2019': True}, 422: {'species': [1, 0, 0], '2017': False, '2018': False, '2019': True}, 423: {'species': [1, 0, 0], '2017': False, '2018': False, '2019': True}, 424: {'species': [0, 1, 0], '2017': False, '2018': False, '2019': True}, 425: {'species': [0, 1, 0], '2017': False, '2018': False, '2019': True}, 426: {'species': [0, 1, 0], '2017': False, '2018': False, '2019': True}, 427: {'species': [0, 1, 0], '2017': False, '2018': False, '2019': True}, 428: {'species': [0, 1, 0], '2017': False, '2018': False, '2019': True}, 429: {'species': [0, 1, 0], '2017': False, '2018': False, '2019': True}, 454: {'species': [0, 0, 1], '2017': False, '2018': False, '2019': True}, 455: {'species': [0, 1, 0], '2017': False, '2018': False, '2019': True}, 456: {'species': [1, 0, 0], '2017': False, '2018': False, '2019': True}, 463: {'species': [0, 1, 0], '2017': False, '2018': False, '2019': True}, 464: {'species': [0, 1, 0], '2017': False, '2018': False, '2019': True}, 465: {'species': [0, 1, 0], '2017': False, '2018': False, '2019': True}, 484: {'species': [1, 0, 0], '2017': False, '2018': False, '2019': True}, 485: {'species': [1, 0, 0], '2017': False, '2018': False, '2019': True}, 486: {'species': [1, 0, 0], '2017': False, '2018': False, '2019': True}, 487: {'species': [1, 0, 0], '2017': False, '2018': False, '2019': True}, 488: {'species': [0, 1, 0], '2017': False, '2018': False, '2019': True}, 489: {'species': [0, 1, 0], '2017': False, '2018': False, '2019': True}, 490: {'species': [0, 1, 0], '2017': False, '2018': False, '2019': True}, 491: {'species': [0, 1, 0], '2017': False, '2018': False, '2019': True}, 492: {'species': [0, 1, 0], '2017': False, '2018': False, '2019': True}, 493: {'species': [0, 1, 0], '2017': False, '2018': False, '2019': True}, 494: {'species': [0, 1, 0], '2017': False, '2018': False, '2019': True}, 504: {'species': [1, 0, 0], '2017': False, '2018': False, '2019': True}, 505: {'species': [1, 0, 0], '2017': False, '2018': False, '2019': True}, 506: {'species': [1, 0, 0], '2017': False, '2018': False, '2019': True}, 507: {'species': [0, 1, 0], '2017': False, '2018': False, '2019': True}}\n"
     ]
    }
   ],
   "source": [
    "# Process Input Data Row by Row\n",
    "\n",
    "def process_data(current_row):\n",
    "    band_number = current_row['Band #']\n",
    "    date = current_row['Date']\n",
    "    \n",
    "    key = band_number\n",
    "    if key not in results:\n",
    "        results[key] = templateMarkRecaptureDataByYear.copy()\n",
    "        \n",
    "        # Species -> Bit flag mapping only needs to happen once per band_number.\n",
    "        species = current_row['Species']\n",
    "        results[key]['species'] = species_mapping[species]\n",
    "\n",
    "    year = convert_date_to_year(date)\n",
    "    results[key][year] = True\n",
    "    \n",
    "df.apply(process_data, axis=1)\n",
    "\n",
    "print(results)"
   ]
  },
  {
   "cell_type": "code",
   "execution_count": 9,
   "id": "84c4a5aa",
   "metadata": {
    "tags": [
     "outputPrepend"
    ]
   },
   "outputs": [
    {
     "name": "stdout",
     "output_type": "stream",
     "text": [
      "{62: {'species': [0, 0, 1], '2017': 1, '2018': 0, '2019': 0}, 63: {'species': [0, 0, 1], '2017': 1, '2018': 1, '2019': 1}, 64: {'species': [0, 0, 1], '2017': 1, '2018': 1, '2019': 0}, 65: {'species': [0, 0, 1], '2017': 1, '2018': 0, '2019': 0}, 66: {'species': [0, 0, 1], '2017': 1, '2018': 1, '2019': 1}, 67: {'species': [0, 0, 1], '2017': 1, '2018': 0, '2019': 0}, 68: {'species': [0, 0, 1], '2017': 1, '2018': 0, '2019': 0}, 69: {'species': [0, 0, 1], '2017': 1, '2018': 1, '2019': 1}, 70: {'species': [0, 0, 1], '2017': 1, '2018': 1, '2019': 0}, 71: {'species': [1, 0, 0], '2017': 1, '2018': 1, '2019': 0}, 72: {'species': [1, 0, 0], '2017': 1, '2018': 1, '2019': 0}, 73: {'species': [1, 0, 0], '2017': 1, '2018': 1, '2019': 0}, 74: {'species': [1, 0, 0], '2017': 1, '2018': 0, '2019': 0}, 75: {'species': [1, 0, 0], '2017': 1, '2018': 0, '2019': 0}, 76: {'species': [1, 0, 0], '2017': 1, '2018': 1, '2019': 0}, 77: {'species': [1, 0, 0], '2017': 1, '2018': 0, '2019': 0}, 78: {'species': [1, 0, 0], '2017': 1, '2018': 0, '2019': 0}, 79: {'species': [1, 0, 0], '2017': 1, '2018': 0, '2019': 0}, 80: {'species': [1, 0, 0], '2017': 1, '2018': 1, '2019': 0}, 81: {'species': [1, 0, 0], '2017': 1, '2018': 0, '2019': 0}, 82: {'species': [1, 0, 0], '2017': 1, '2018': 0, '2019': 0}, 83: {'species': [1, 0, 0], '2017': 1, '2018': 0, '2019': 0}, 84: {'species': [1, 0, 0], '2017': 1, '2018': 1, '2019': 0}, 85: {'species': [1, 0, 0], '2017': 1, '2018': 0, '2019': 0}, 86: {'species': [1, 0, 0], '2017': 1, '2018': 0, '2019': 0}, 87: {'species': [1, 0, 0], '2017': 1, '2018': 1, '2019': 0}, 88: {'species': [1, 0, 0], '2017': 1, '2018': 0, '2019': 0}, 89: {'species': [1, 0, 0], '2017': 1, '2018': 0, '2019': 0}, 90: {'species': [1, 0, 0], '2017': 1, '2018': 0, '2019': 0}, 91: {'species': [0, 0, 1], '2017': 1, '2018': 0, '2019': 0}, 92: {'species': [0, 0, 1], '2017': 1, '2018': 0, '2019': 0}, 93: {'species': [0, 0, 1], '2017': 1, '2018': 0, '2019': 0}, 94: {'species': [0, 0, 1], '2017': 1, '2018': 0, '2019': 0}, 95: {'species': [0, 1, 0], '2017': 1, '2018': 0, '2019': 0}, 96: {'species': [0, 1, 0], '2017': 1, '2018': 0, '2019': 0}, 97: {'species': [0, 1, 0], '2017': 1, '2018': 0, '2019': 0}, 98: {'species': [0, 1, 0], '2017': 1, '2018': 0, '2019': 0}, 99: {'species': [0, 1, 0], '2017': 1, '2018': 0, '2019': 0}, 100: {'species': [0, 1, 0], '2017': 1, '2018': 0, '2019': 0}, 101: {'species': [0, 1, 0], '2017': 1, '2018': 0, '2019': 0}, 102: {'species': [0, 1, 0], '2017': 1, '2018': 0, '2019': 0}, 103: {'species': [0, 1, 0], '2017': 1, '2018': 0, '2019': 0}, 104: {'species': [0, 0, 1], '2017': 1, '2018': 1, '2019': 0}, 105: {'species': [0, 0, 1], '2017': 1, '2018': 1, '2019': 0}, 106: {'species': [0, 0, 1], '2017': 1, '2018': 1, '2019': 0}, 107: {'species': [0, 0, 1], '2017': 1, '2018': 0, '2019': 0}, 108: {'species': [0, 0, 1], '2017': 1, '2018': 1, '2019': 1}, 109: {'species': [0, 0, 1], '2017': 1, '2018': 1, '2019': 0}, 110: {'species': [0, 0, 1], '2017': 1, '2018': 1, '2019': 0}, 111: {'species': [0, 1, 0], '2017': 1, '2018': 0, '2019': 0}, 112: {'species': [0, 1, 0], '2017': 1, '2018': 0, '2019': 0}, 113: {'species': [0, 1, 0], '2017': 1, '2018': 1, '2019': 1}, 114: {'species': [0, 1, 0], '2017': 1, '2018': 1, '2019': 1}, 115: {'species': [0, 1, 0], '2017': 1, '2018': 1, '2019': 0}, 116: {'species': [0, 1, 0], '2017': 1, '2018': 1, '2019': 1}, 117: {'species': [0, 1, 0], '2017': 1, '2018': 0, '2019': 0}, 118: {'species': [0, 1, 0], '2017': 1, '2018': 0, '2019': 0}, 119: {'species': [0, 1, 0], '2017': 1, '2018': 1, '2019': 1}, 120: {'species': [0, 1, 0], '2017': 1, '2018': 0, '2019': 1}, 121: {'species': [0, 1, 0], '2017': 1, '2018': 1, '2019': 1}, 122: {'species': [0, 1, 0], '2017': 1, '2018': 0, '2019': 1}, 123: {'species': [1, 0, 0], '2017': 1, '2018': 1, '2019': 0}, 124: {'species': [1, 0, 0], '2017': 1, '2018': 0, '2019': 0}, 125: {'species': [1, 0, 0], '2017': 1, '2018': 0, '2019': 0}, 126: {'species': [1, 0, 0], '2017': 1, '2018': 0, '2019': 0}, 127: {'species': [1, 0, 0], '2017': 1, '2018': 1, '2019': 0}, 128: {'species': [1, 0, 0], '2017': 1, '2018': 0, '2019': 0}, 129: {'species': [1, 0, 0], '2017': 1, '2018': 0, '2019': 0}, 130: {'species': [1, 0, 0], '2017': 1, '2018': 0, '2019': 0}, 131: {'species': [1, 0, 0], '2017': 1, '2018': 0, '2019': 0}, 132: {'species': [1, 0, 0], '2017': 1, '2018': 1, '2019': 0}, 133: {'species': [0, 0, 1], '2017': 1, '2018': 1, '2019': 0}, 134: {'species': [0, 0, 1], '2017': 1, '2018': 0, '2019': 1}, 135: {'species': [0, 0, 1], '2017': 1, '2018': 0, '2019': 0}, 136: {'species': [0, 0, 1], '2017': 1, '2018': 0, '2019': 0}, 137: {'species': [1, 0, 0], '2017': 1, '2018': 0, '2019': 0}, 138: {'species': [1, 0, 0], '2017': 1, '2018': 0, '2019': 0}, 139: {'species': [1, 0, 0], '2017': 1, '2018': 0, '2019': 0}, 140: {'species': [0, 0, 1], '2017': 1, '2018': 0, '2019': 0}, 141: {'species': [1, 0, 0], '2017': 1, '2018': 0, '2019': 0}, 142: {'species': [1, 0, 0], '2017': 1, '2018': 0, '2019': 0}, 143: {'species': [1, 0, 0], '2017': 1, '2018': 0, '2019': 0}, 144: {'species': [1, 0, 0], '2017': 1, '2018': 1, '2019': 1}, 145: {'species': [1, 0, 0], '2017': 1, '2018': 0, '2019': 1}, 146: {'species': [1, 0, 0], '2017': 1, '2018': 0, '2019': 0}, 147: {'species': [1, 0, 0], '2017': 1, '2018': 1, '2019': 0}, 148: {'species': [1, 0, 0], '2017': 1, '2018': 0, '2019': 0}, 149: {'species': [1, 0, 0], '2017': 1, '2018': 0, '2019': 0}, 150: {'species': [1, 0, 0], '2017': 1, '2018': 0, '2019': 0}, 151: {'species': [0, 0, 1], '2017': 1, '2018': 0, '2019': 0}, 152: {'species': [1, 0, 0], '2017': 1, '2018': 0, '2019': 0}, 153: {'species': [1, 0, 0], '2017': 1, '2018': 1, '2019': 1}, 154: {'species': [1, 0, 0], '2017': 1, '2018': 0, '2019': 0}, 155: {'species': [1, 0, 0], '2017': 1, '2018': 0, '2019': 0}, 156: {'species': [1, 0, 0], '2017': 1, '2018': 0, '2019': 0}, 157: {'species': [1, 0, 0], '2017': 1, '2018': 1, '2019': 0}, 158: {'species': [1, 0, 0], '2017': 1, '2018': 0, '2019': 0}, 159: {'species': [1, 0, 0], '2017': 1, '2018': 0, '2019': 0}, 160: {'species': [1, 0, 0], '2017': 1, '2018': 0, '2019': 0}, 161: {'species': [1, 0, 0], '2017': 1, '2018': 0, '2019': 0}, 162: {'species': [1, 0, 0], '2017': 1, '2018': 0, '2019': 0}, 163: {'species': [0, 0, 1], '2017': 1, '2018': 0, '2019': 0}, 164: {'species': [0, 0, 1], '2017': 1, '2018': 0, '2019': 0}, 165: {'species': [1, 0, 0], '2017': 1, '2018': 1, '2019': 0}, 166: {'species': [1, 0, 0], '2017': 1, '2018': 0, '2019': 0}, 167: {'species': [1, 0, 0], '2017': 1, '2018': 0, '2019': 0}, 168: {'species': [1, 0, 0], '2017': 1, '2018': 0, '2019': 0}, 169: {'species': [0, 0, 1], '2017': 1, '2018': 0, '2019': 0}, 170: {'species': [0, 0, 1], '2017': 1, '2018': 0, '2019': 0}, 171: {'species': [0, 0, 1], '2017': 1, '2018': 1, '2019': 0}, 172: {'species': [1, 0, 0], '2017': 1, '2018': 0, '2019': 0}, 173: {'species': [1, 0, 0], '2017': 1, '2018': 0, '2019': 0}, 174: {'species': [1, 0, 0], '2017': 1, '2018': 0, '2019': 0}, 175: {'species': [0, 0, 1], '2017': 1, '2018': 0, '2019': 0}, 176: {'species': [0, 0, 1], '2017': 1, '2018': 0, '2019': 1}, 177: {'species': [0, 0, 1], '2017': 1, '2018': 0, '2019': 0}, 178: {'species': [0, 0, 1], '2017': 1, '2018': 0, '2019': 0}, 179: {'species': [1, 0, 0], '2017': 1, '2018': 0, '2019': 0}, 180: {'species': [1, 0, 0], '2017': 1, '2018': 0, '2019': 1}, 181: {'species': [0, 0, 1], '2017': 1, '2018': 0, '2019': 0}, 182: {'species': [0, 0, 1], '2017': 1, '2018': 0, '2019': 0}, 183: {'species': [0, 0, 1], '2017': 1, '2018': 0, '2019': 0}, 184: {'species': [1, 0, 0], '2017': 1, '2018': 0, '2019': 0}, 185: {'species': [1, 0, 0], '2017': 1, '2018': 0, '2019': 0}, 186: {'species': [1, 0, 0], '2017': 1, '2018': 0, '2019': 0}, 187: {'species': [1, 0, 0], '2017': 1, '2018': 0, '2019': 0}, 188: {'species': [1, 0, 0], '2017': 1, '2018': 0, '2019': 0}, 196: {'species': [0, 1, 0], '2017': 0, '2018': 1, '2019': 1}, 197: {'species': [0, 1, 0], '2017': 0, '2018': 1, '2019': 1}, 198: {'species': [0, 1, 0], '2017': 0, '2018': 1, '2019': 0}, 199: {'species': [0, 1, 0], '2017': 0, '2018': 1, '2019': 1}, 200: {'species': [0, 1, 0], '2017': 0, '2018': 1, '2019': 1}, 207: {'species': [1, 0, 0], '2017': 0, '2018': 1, '2019': 0}, 208: {'species': [1, 0, 0], '2017': 0, '2018': 1, '2019': 0}, 209: {'species': [1, 0, 0], '2017': 0, '2018': 1, '2019': 1}, 210: {'species': [1, 0, 0], '2017': 0, '2018': 1, '2019': 0}, 211: {'species': [1, 0, 0], '2017': 0, '2018': 1, '2019': 0}, 212: {'species': [1, 0, 0], '2017': 0, '2018': 1, '2019': 0}, 213: {'species': [1, 0, 0], '2017': 0, '2018': 1, '2019': 0}, 214: {'species': [1, 0, 0], '2017': 0, '2018': 1, '2019': 0}, 215: {'species': [1, 0, 0], '2017': 0, '2018': 1, '2019': 0}, 216: {'species': [1, 0, 0], '2017': 0, '2018': 1, '2019': 0}, 217: {'species': [0, 0, 1], '2017': 0, '2018': 1, '2019': 1}, 218: {'species': [0, 0, 1], '2017': 0, '2018': 1, '2019': 0}, 219: {'species': [0, 0, 1], '2017': 0, '2018': 1, '2019': 1}, 220: {'species': [0, 0, 1], '2017': 0, '2018': 1, '2019': 1}, 224: {'species': [0, 0, 1], '2017': 0, '2018': 1, '2019': 1}, 225: {'species': [0, 0, 1], '2017': 0, '2018': 1, '2019': 0}, 230: {'species': [0, 0, 1], '2017': 0, '2018': 1, '2019': 1}, 231: {'species': [0, 1, 0], '2017': 0, '2018': 1, '2019': 1}, 232: {'species': [0, 1, 0], '2017': 0, '2018': 1, '2019': 1}, 233: {'species': [0, 1, 0], '2017': 0, '2018': 1, '2019': 1}, 234: {'species': [0, 1, 0], '2017': 0, '2018': 1, '2019': 0}, 235: {'species': [0, 1, 0], '2017': 0, '2018': 1, '2019': 0}, 236: {'species': [0, 1, 0], '2017': 0, '2018': 1, '2019': 1}, 237: {'species': [0, 1, 0], '2017': 0, '2018': 1, '2019': 0}, 239: {'species': [1, 0, 0], '2017': 0, '2018': 1, '2019': 1}, 240: {'species': [1, 0, 0], '2017': 0, '2018': 1, '2019': 0}, 241: {'species': [1, 0, 0], '2017': 0, '2018': 1, '2019': 0}, 242: {'species': [1, 0, 0], '2017': 0, '2018': 1, '2019': 0}, 243: {'species': [1, 0, 0], '2017': 0, '2018': 1, '2019': 0}, 250: {'species': [0, 0, 1], '2017': 0, '2018': 1, '2019': 0}, 251: {'species': [0, 0, 1], '2017': 0, '2018': 1, '2019': 0}, 252: {'species': [0, 0, 1], '2017': 0, '2018': 1, '2019': 0}, 255: {'species': [1, 0, 0], '2017': 0, '2018': 1, '2019': 1}, 256: {'species': [1, 0, 0], '2017': 0, '2018': 1, '2019': 0}, 257: {'species': [1, 0, 0], '2017': 0, '2018': 1, '2019': 0}, 258: {'species': [1, 0, 0], '2017': 0, '2018': 1, '2019': 0}, 259: {'species': [0, 0, 1], '2017': 0, '2018': 1, '2019': 0}, 260: {'species': [0, 0, 1], '2017': 0, '2018': 1, '2019': 0}, 261: {'species': [0, 0, 1], '2017': 0, '2018': 1, '2019': 1}, 262: {'species': [0, 0, 1], '2017': 0, '2018': 1, '2019': 1}, 263: {'species': [0, 1, 0], '2017': 0, '2018': 1, '2019': 0}, 264: {'species': [1, 0, 0], '2017': 0, '2018': 1, '2019': 0}, 265: {'species': [1, 0, 0], '2017': 0, '2018': 1, '2019': 1}, 266: {'species': [1, 0, 0], '2017': 0, '2018': 1, '2019': 1}, 267: {'species': [0, 0, 1], '2017': 0, '2018': 1, '2019': 0}, 268: {'species': [0, 0, 1], '2017': 0, '2018': 1, '2019': 0}, 269: {'species': [0, 0, 1], '2017': 0, '2018': 1, '2019': 1}, 270: {'species': [1, 0, 0], '2017': 0, '2018': 1, '2019': 0}, 271: {'species': [0, 1, 0], '2017': 0, '2018': 1, '2019': 1}, 272: {'species': [0, 1, 0], '2017': 0, '2018': 1, '2019': 0}, 273: {'species': [1, 0, 0], '2017': 0, '2018': 1, '2019': 1}, 274: {'species': [1, 0, 0], '2017': 0, '2018': 1, '2019': 0}, 275: {'species': [1, 0, 0], '2017': 0, '2018': 1, '2019': 0}, 276: {'species': [0, 1, 0], '2017': 0, '2018': 1, '2019': 1}, 277: {'species': [1, 0, 0], '2017': 0, '2018': 1, '2019': 0}, 278: {'species': [0, 1, 0], '2017': 0, '2018': 1, '2019': 0}, 279: {'species': [0, 0, 1], '2017': 0, '2018': 1, '2019': 1}, 280: {'species': [0, 0, 1], '2017': 0, '2018': 1, '2019': 0}, 281: {'species': [0, 1, 0], '2017': 0, '2018': 1, '2019': 0}, 282: {'species': [0, 1, 0], '2017': 0, '2018': 1, '2019': 0}, 283: {'species': [0, 1, 0], '2017': 0, '2018': 1, '2019': 1}, 284: {'species': [1, 0, 0], '2017': 0, '2018': 1, '2019': 0}, 285: {'species': [1, 0, 0], '2017': 0, '2018': 1, '2019': 0}, 286: {'species': [1, 0, 0], '2017': 0, '2018': 1, '2019': 0}, 287: {'species': [0, 1, 0], '2017': 0, '2018': 1, '2019': 0}, 288: {'species': [0, 1, 0], '2017': 0, '2018': 1, '2019': 1}, 289: {'species': [0, 1, 0], '2017': 0, '2018': 1, '2019': 1}, 290: {'species': [1, 0, 0], '2017': 0, '2018': 1, '2019': 0}, 291: {'species': [1, 0, 0], '2017': 0, '2018': 1, '2019': 0}, 292: {'species': [1, 0, 0], '2017': 0, '2018': 1, '2019': 0}, 293: {'species': [1, 0, 0], '2017': 0, '2018': 1, '2019': 0}, 294: {'species': [1, 0, 0], '2017': 0, '2018': 1, '2019': 0}, 295: {'species': [0, 1, 0], '2017': 0, '2018': 1, '2019': 0}, 296: {'species': [0, 1, 0], '2017': 0, '2018': 1, '2019': 0}, 297: {'species': [0, 1, 0], '2017': 0, '2018': 1, '2019': 1}, 298: {'species': [1, 0, 0], '2017': 0, '2018': 1, '2019': 0}, 299: {'species': [1, 0, 0], '2017': 0, '2018': 1, '2019': 0}, 300: {'species': [1, 0, 0], '2017': 0, '2018': 1, '2019': 0}, 301: {'species': [1, 0, 0], '2017': 0, '2018': 1, '2019': 0}, 302: {'species': [0, 0, 1], '2017': 0, '2018': 1, '2019': 0}, 304: {'species': [1, 0, 0], '2017': 0, '2018': 1, '2019': 1}, 305: {'species': [1, 0, 0], '2017': 0, '2018': 1, '2019': 0}, 306: {'species': [0, 1, 0], '2017': 0, '2018': 1, '2019': 1}, 307: {'species': [1, 0, 0], '2017': 0, '2018': 1, '2019': 1}, 308: {'species': [1, 0, 0], '2017': 0, '2018': 1, '2019': 0}, 309: {'species': [1, 0, 0], '2017': 0, '2018': 1, '2019': 1}, 310: {'species': [1, 0, 0], '2017': 0, '2018': 1, '2019': 0}, 311: {'species': [0, 0, 1], '2017': 0, '2018': 1, '2019': 0}, 312: {'species': [1, 0, 0], '2017': 0, '2018': 1, '2019': 1}, 313: {'species': [1, 0, 0], '2017': 0, '2018': 1, '2019': 1}, 314: {'species': [1, 0, 0], '2017': 0, '2018': 1, '2019': 0}, 315: {'species': [1, 0, 0], '2017': 0, '2018': 1, '2019': 0}, 316: {'species': [1, 0, 0], '2017': 0, '2018': 1, '2019': 1}, 317: {'species': [1, 0, 0], '2017': 0, '2018': 1, '2019': 1}, 318: {'species': [1, 0, 0], '2017': 0, '2018': 1, '2019': 0}, 319: {'species': [1, 0, 0], '2017': 0, '2018': 1, '2019': 0}, 320: {'species': [1, 0, 0], '2017': 0, '2018': 1, '2019': 1}, 321: {'species': [1, 0, 0], '2017': 0, '2018': 1, '2019': 1}, 322: {'species': [1, 0, 0], '2017': 0, '2018': 1, '2019': 1}, 323: {'species': [1, 0, 0], '2017': 0, '2018': 1, '2019': 1}, 324: {'species': [1, 0, 0], '2017': 0, '2018': 1, '2019': 1}, 325: {'species': [1, 0, 0], '2017': 0, '2018': 1, '2019': 0}, 326: {'species': [0, 1, 0], '2017': 0, '2018': 0, '2019': 1}, 330: {'species': [0, 1, 0], '2017': 0, '2018': 0, '2019': 1}, 327: {'species': [1, 0, 0], '2017': 0, '2018': 0, '2019': 1}, 328: {'species': [1, 0, 0], '2017': 0, '2018': 0, '2019': 1}, 329: {'species': [1, 0, 0], '2017': 0, '2018': 0, '2019': 1}, 331: {'species': [0, 1, 0], '2017': 0, '2018': 0, '2019': 1}, 332: {'species': [0, 1, 0], '2017': 0, '2018': 0, '2019': 1}, 333: {'species': [0, 1, 0], '2017': 0, '2018': 0, '2019': 1}, 334: {'species': [0, 1, 0], '2017': 0, '2018': 0, '2019': 1}, 335: {'species': [0, 1, 0], '2017': 0, '2018': 0, '2019': 1}, 336: {'species': [0, 1, 0], '2017': 0, '2018': 0, '2019': 1}, 337: {'species': [0, 1, 0], '2017': 0, '2018': 0, '2019': 1}, 338: {'species': [0, 1, 0], '2017': 0, '2018': 0, '2019': 1}, 339: {'species': [0, 1, 0], '2017': 0, '2018': 0, '2019': 1}, 340: {'species': [0, 1, 0], '2017': 0, '2018': 0, '2019': 1}, 341: {'species': [1, 0, 0], '2017': 0, '2018': 0, '2019': 1}, 342: {'species': [1, 0, 0], '2017': 0, '2018': 0, '2019': 1}, 343: {'species': [1, 0, 0], '2017': 0, '2018': 0, '2019': 1}, 344: {'species': [1, 0, 0], '2017': 0, '2018': 0, '2019': 1}, 345: {'species': [1, 0, 0], '2017': 0, '2018': 0, '2019': 1}, 346: {'species': [1, 0, 0], '2017': 0, '2018': 0, '2019': 1}, 347: {'species': [1, 0, 0], '2017': 0, '2018': 0, '2019': 1}, 348: {'species': [1, 0, 0], '2017': 0, '2018': 0, '2019': 1}, 349: {'species': [0, 0, 1], '2017': 0, '2018': 0, '2019': 1}, 350: {'species': [0, 0, 1], '2017': 0, '2018': 0, '2019': 1}, 351: {'species': [0, 1, 0], '2017': 0, '2018': 0, '2019': 1}, 352: {'species': [0, 1, 0], '2017': 0, '2018': 0, '2019': 1}, 353: {'species': [0, 1, 0], '2017': 0, '2018': 0, '2019': 1}, 354: {'species': [1, 0, 0], '2017': 0, '2018': 0, '2019': 1}, 355: {'species': [1, 0, 0], '2017': 0, '2018': 0, '2019': 1}, 356: {'species': [1, 0, 0], '2017': 0, '2018': 0, '2019': 1}, 357: {'species': [1, 0, 0], '2017': 0, '2018': 0, '2019': 1}, 358: {'species': [1, 0, 0], '2017': 0, '2018': 0, '2019': 1}, 359: {'species': [0, 1, 0], '2017': 0, '2018': 0, '2019': 1}, 360: {'species': [0, 1, 0], '2017': 0, '2018': 0, '2019': 1}, 361: {'species': [0, 1, 0], '2017': 0, '2018': 0, '2019': 1}, 362: {'species': [0, 1, 0], '2017': 0, '2018': 0, '2019': 1}, 363: {'species': [0, 1, 0], '2017': 0, '2018': 0, '2019': 1}, 364: {'species': [0, 1, 0], '2017': 0, '2018': 0, '2019': 1}, 365: {'species': [0, 1, 0], '2017': 0, '2018': 0, '2019': 1}, 366: {'species': [1, 0, 0], '2017': 0, '2018': 0, '2019': 1}, 367: {'species': [1, 0, 0], '2017': 0, '2018': 0, '2019': 1}, 368: {'species': [1, 0, 0], '2017': 0, '2018': 0, '2019': 1}, 369: {'species': [1, 0, 0], '2017': 0, '2018': 0, '2019': 1}, 370: {'species': [0, 1, 0], '2017': 0, '2018': 0, '2019': 1}, 371: {'species': [0, 1, 0], '2017': 0, '2018': 0, '2019': 1}, 372: {'species': [0, 1, 0], '2017': 0, '2018': 0, '2019': 1}, 373: {'species': [1, 0, 0], '2017': 0, '2018': 0, '2019': 1}, 374: {'species': [1, 0, 0], '2017': 0, '2018': 0, '2019': 1}, 375: {'species': [0, 0, 1], '2017': 0, '2018': 0, '2019': 1}, 376: {'species': [0, 1, 0], '2017': 0, '2018': 0, '2019': 1}, 377: {'species': [0, 1, 0], '2017': 0, '2018': 0, '2019': 1}, 378: {'species': [0, 1, 0], '2017': 0, '2018': 0, '2019': 1}, 379: {'species': [0, 1, 0], '2017': 0, '2018': 0, '2019': 1}, 380: {'species': [1, 0, 0], '2017': 0, '2018': 0, '2019': 1}, 381: {'species': [1, 0, 0], '2017': 0, '2018': 0, '2019': 1}, 382: {'species': [1, 0, 0], '2017': 0, '2018': 0, '2019': 1}, 383: {'species': [1, 0, 0], '2017': 0, '2018': 0, '2019': 1}, 384: {'species': [1, 0, 0], '2017': 0, '2018': 0, '2019': 1}, 385: {'species': [1, 0, 0], '2017': 0, '2018': 0, '2019': 1}, 386: {'species': [0, 1, 0], '2017': 0, '2018': 0, '2019': 1}, 387: {'species': [0, 1, 0], '2017': 0, '2018': 0, '2019': 1}, 388: {'species': [0, 1, 0], '2017': 0, '2018': 0, '2019': 1}, 389: {'species': [0, 1, 0], '2017': 0, '2018': 0, '2019': 1}, 391: {'species': [1, 0, 0], '2017': 0, '2018': 0, '2019': 1}, 392: {'species': [1, 0, 0], '2017': 0, '2018': 0, '2019': 1}, 393: {'species': [1, 0, 0], '2017': 0, '2018': 0, '2019': 1}, 394: {'species': [0, 1, 0], '2017': 0, '2018': 0, '2019': 1}, 395: {'species': [0, 1, 0], '2017': 0, '2018': 0, '2019': 1}, 396: {'species': [1, 0, 0], '2017': 0, '2018': 0, '2019': 1}, 397: {'species': [1, 0, 0], '2017': 0, '2018': 0, '2019': 1}, 398: {'species': [1, 0, 0], '2017': 0, '2018': 0, '2019': 1}, 399: {'species': [0, 1, 0], '2017': 0, '2018': 0, '2019': 1}, 400: {'species': [0, 1, 0], '2017': 0, '2018': 0, '2019': 1}, 401: {'species': [0, 1, 0], '2017': 0, '2018': 0, '2019': 1}, 402: {'species': [0, 1, 0], '2017': 0, '2018': 0, '2019': 1}, 403: {'species': [0, 1, 0], '2017': 0, '2018': 0, '2019': 1}, 404: {'species': [0, 1, 0], '2017': 0, '2018': 0, '2019': 1}, 405: {'species': [0, 1, 0], '2017': 0, '2018': 0, '2019': 1}, 406: {'species': [0, 1, 0], '2017': 0, '2018': 0, '2019': 1}, 407: {'species': [0, 0, 1], '2017': 0, '2018': 0, '2019': 1}, 408: {'species': [0, 1, 0], '2017': 0, '2018': 0, '2019': 1}, 409: {'species': [0, 1, 0], '2017': 0, '2018': 0, '2019': 1}, 410: {'species': [0, 1, 0], '2017': 0, '2018': 0, '2019': 1}, 411: {'species': [0, 1, 0], '2017': 0, '2018': 0, '2019': 1}, 412: {'species': [1, 0, 0], '2017': 0, '2018': 0, '2019': 1}, 413: {'species': [1, 0, 0], '2017': 0, '2018': 0, '2019': 1}, 414: {'species': [0, 1, 0], '2017': 0, '2018': 0, '2019': 1}, 415: {'species': [0, 1, 0], '2017': 0, '2018': 0, '2019': 1}, 416: {'species': [0, 1, 0], '2017': 0, '2018': 0, '2019': 1}, 417: {'species': [0, 1, 0], '2017': 0, '2018': 0, '2019': 1}, 418: {'species': [0, 1, 0], '2017': 0, '2018': 0, '2019': 1}, 419: {'species': [0, 1, 0], '2017': 0, '2018': 0, '2019': 1}, 420: {'species': [0, 1, 0], '2017': 0, '2018': 0, '2019': 1}, 421: {'species': [0, 1, 0], '2017': 0, '2018': 0, '2019': 1}, 422: {'species': [1, 0, 0], '2017': 0, '2018': 0, '2019': 1}, 423: {'species': [1, 0, 0], '2017': 0, '2018': 0, '2019': 1}, 424: {'species': [0, 1, 0], '2017': 0, '2018': 0, '2019': 1}, 425: {'species': [0, 1, 0], '2017': 0, '2018': 0, '2019': 1}, 426: {'species': [0, 1, 0], '2017': 0, '2018': 0, '2019': 1}, 427: {'species': [0, 1, 0], '2017': 0, '2018': 0, '2019': 1}, 428: {'species': [0, 1, 0], '2017': 0, '2018': 0, '2019': 1}, 429: {'species': [0, 1, 0], '2017': 0, '2018': 0, '2019': 1}, 454: {'species': [0, 0, 1], '2017': 0, '2018': 0, '2019': 1}, 455: {'species': [0, 1, 0], '2017': 0, '2018': 0, '2019': 1}, 456: {'species': [1, 0, 0], '2017': 0, '2018': 0, '2019': 1}, 463: {'species': [0, 1, 0], '2017': 0, '2018': 0, '2019': 1}, 464: {'species': [0, 1, 0], '2017': 0, '2018': 0, '2019': 1}, 465: {'species': [0, 1, 0], '2017': 0, '2018': 0, '2019': 1}, 484: {'species': [1, 0, 0], '2017': 0, '2018': 0, '2019': 1}, 485: {'species': [1, 0, 0], '2017': 0, '2018': 0, '2019': 1}, 486: {'species': [1, 0, 0], '2017': 0, '2018': 0, '2019': 1}, 487: {'species': [1, 0, 0], '2017': 0, '2018': 0, '2019': 1}, 488: {'species': [0, 1, 0], '2017': 0, '2018': 0, '2019': 1}, 489: {'species': [0, 1, 0], '2017': 0, '2018': 0, '2019': 1}, 490: {'species': [0, 1, 0], '2017': 0, '2018': 0, '2019': 1}, 491: {'species': [0, 1, 0], '2017': 0, '2018': 0, '2019': 1}, 492: {'species': [0, 1, 0], '2017': 0, '2018': 0, '2019': 1}, 493: {'species': [0, 1, 0], '2017': 0, '2018': 0, '2019': 1}, 494: {'species': [0, 1, 0], '2017': 0, '2018': 0, '2019': 1}, 504: {'species': [1, 0, 0], '2017': 0, '2018': 0, '2019': 1}, 505: {'species': [1, 0, 0], '2017': 0, '2018': 0, '2019': 1}, 506: {'species': [1, 0, 0], '2017': 0, '2018': 0, '2019': 1}, 507: {'species': [0, 1, 0], '2017': 0, '2018': 0, '2019': 1}}\n"
     ]
    }
   ],
   "source": [
    "# First, convert all Booleans to 1's and 0's\n",
    "\n",
    "def convert_boolean_to_one_or_zero(bool_value):\n",
    "    if bool_value:\n",
    "        return 1\n",
    "    return 0\n",
    "\n",
    "def convert_data_by_year_to_ones_and_zeros(capture_data_dict):\n",
    "    new_capture_data_dict = {}\n",
    "    for (key, value) in capture_data_dict.items():\n",
    "        if key in years:\n",
    "            new_capture_data_dict[key] = convert_boolean_to_one_or_zero(value)\n",
    "        else:\n",
    "            new_capture_data_dict[key] = value\n",
    "    return new_capture_data_dict\n",
    "\n",
    "def convert_results_year_booleans_to_ones_and_zeros(results):\n",
    "    new_results = {}\n",
    "    for (band_number, data_dict) in results.items():\n",
    "        new_results[band_number] = convert_data_by_year_to_ones_and_zeros(data_dict)\n",
    "    return new_results\n",
    "        \n",
    "converted_results = convert_results_year_booleans_to_ones_and_zeros(results)\n",
    "print(converted_results)\n"
   ]
  },
  {
   "cell_type": "code",
   "execution_count": 10,
   "id": "c2629dab",
   "metadata": {},
   "outputs": [
    {
     "name": "stdout",
     "output_type": "stream",
     "text": [
      "['/* 62 */  100  0  0  1;', '/* 63 */  111  0  0  1;', '/* 64 */  110  0  0  1;', '/* 65 */  100  0  0  1;', '/* 66 */  111  0  0  1;', '/* 67 */  100  0  0  1;', '/* 68 */  100  0  0  1;', '/* 69 */  111  0  0  1;', '/* 70 */  110  0  0  1;', '/* 71 */  110  1  0  0;', '/* 72 */  110  1  0  0;', '/* 73 */  110  1  0  0;', '/* 74 */  100  1  0  0;', '/* 75 */  100  1  0  0;', '/* 76 */  110  1  0  0;', '/* 77 */  100  1  0  0;', '/* 78 */  100  1  0  0;', '/* 79 */  100  1  0  0;', '/* 80 */  110  1  0  0;', '/* 81 */  100  1  0  0;', '/* 82 */  100  1  0  0;', '/* 83 */  100  1  0  0;', '/* 84 */  110  1  0  0;', '/* 85 */  100  1  0  0;', '/* 86 */  100  1  0  0;', '/* 87 */  110  1  0  0;', '/* 88 */  100  1  0  0;', '/* 89 */  100  1  0  0;', '/* 90 */  100  1  0  0;', '/* 91 */  100  0  0  1;', '/* 92 */  100  0  0  1;', '/* 93 */  100  0  0  1;', '/* 94 */  100  0  0  1;', '/* 95 */  100  0  1  0;', '/* 96 */  100  0  1  0;', '/* 97 */  100  0  1  0;', '/* 98 */  100  0  1  0;', '/* 99 */  100  0  1  0;', '/* 100 */  100  0  1  0;', '/* 101 */  100  0  1  0;', '/* 102 */  100  0  1  0;', '/* 103 */  100  0  1  0;', '/* 104 */  110  0  0  1;', '/* 105 */  110  0  0  1;', '/* 106 */  110  0  0  1;', '/* 107 */  100  0  0  1;', '/* 108 */  111  0  0  1;', '/* 109 */  110  0  0  1;', '/* 110 */  110  0  0  1;', '/* 111 */  100  0  1  0;', '/* 112 */  100  0  1  0;', '/* 113 */  111  0  1  0;', '/* 114 */  111  0  1  0;', '/* 115 */  110  0  1  0;', '/* 116 */  111  0  1  0;', '/* 117 */  100  0  1  0;', '/* 118 */  100  0  1  0;', '/* 119 */  111  0  1  0;', '/* 120 */  101  0  1  0;', '/* 121 */  111  0  1  0;', '/* 122 */  101  0  1  0;', '/* 123 */  110  1  0  0;', '/* 124 */  100  1  0  0;', '/* 125 */  100  1  0  0;', '/* 126 */  100  1  0  0;', '/* 127 */  110  1  0  0;', '/* 128 */  100  1  0  0;', '/* 129 */  100  1  0  0;', '/* 130 */  100  1  0  0;', '/* 131 */  100  1  0  0;', '/* 132 */  110  1  0  0;', '/* 133 */  110  0  0  1;', '/* 134 */  101  0  0  1;', '/* 135 */  100  0  0  1;', '/* 136 */  100  0  0  1;', '/* 137 */  100  1  0  0;', '/* 138 */  100  1  0  0;', '/* 139 */  100  1  0  0;', '/* 140 */  100  0  0  1;', '/* 141 */  100  1  0  0;', '/* 142 */  100  1  0  0;', '/* 143 */  100  1  0  0;', '/* 144 */  111  1  0  0;', '/* 145 */  101  1  0  0;', '/* 146 */  100  1  0  0;', '/* 147 */  110  1  0  0;', '/* 148 */  100  1  0  0;', '/* 149 */  100  1  0  0;', '/* 150 */  100  1  0  0;', '/* 151 */  100  0  0  1;', '/* 152 */  100  1  0  0;', '/* 153 */  111  1  0  0;', '/* 154 */  100  1  0  0;', '/* 155 */  100  1  0  0;', '/* 156 */  100  1  0  0;', '/* 157 */  110  1  0  0;', '/* 158 */  100  1  0  0;', '/* 159 */  100  1  0  0;', '/* 160 */  100  1  0  0;', '/* 161 */  100  1  0  0;', '/* 162 */  100  1  0  0;', '/* 163 */  100  0  0  1;', '/* 164 */  100  0  0  1;', '/* 165 */  110  1  0  0;', '/* 166 */  100  1  0  0;', '/* 167 */  100  1  0  0;', '/* 168 */  100  1  0  0;', '/* 169 */  100  0  0  1;', '/* 170 */  100  0  0  1;', '/* 171 */  110  0  0  1;', '/* 172 */  100  1  0  0;', '/* 173 */  100  1  0  0;', '/* 174 */  100  1  0  0;', '/* 175 */  100  0  0  1;', '/* 176 */  101  0  0  1;', '/* 177 */  100  0  0  1;', '/* 178 */  100  0  0  1;', '/* 179 */  100  1  0  0;', '/* 180 */  101  1  0  0;', '/* 181 */  100  0  0  1;', '/* 182 */  100  0  0  1;', '/* 183 */  100  0  0  1;', '/* 184 */  100  1  0  0;', '/* 185 */  100  1  0  0;', '/* 186 */  100  1  0  0;', '/* 187 */  100  1  0  0;', '/* 188 */  100  1  0  0;', '/* 196 */  011  0  1  0;', '/* 197 */  011  0  1  0;', '/* 198 */  010  0  1  0;', '/* 199 */  011  0  1  0;', '/* 200 */  011  0  1  0;', '/* 207 */  010  1  0  0;', '/* 208 */  010  1  0  0;', '/* 209 */  011  1  0  0;', '/* 210 */  010  1  0  0;', '/* 211 */  010  1  0  0;', '/* 212 */  010  1  0  0;', '/* 213 */  010  1  0  0;', '/* 214 */  010  1  0  0;', '/* 215 */  010  1  0  0;', '/* 216 */  010  1  0  0;', '/* 217 */  011  0  0  1;', '/* 218 */  010  0  0  1;', '/* 219 */  011  0  0  1;', '/* 220 */  011  0  0  1;', '/* 224 */  011  0  0  1;', '/* 225 */  010  0  0  1;', '/* 230 */  011  0  0  1;', '/* 231 */  011  0  1  0;', '/* 232 */  011  0  1  0;', '/* 233 */  011  0  1  0;', '/* 234 */  010  0  1  0;', '/* 235 */  010  0  1  0;', '/* 236 */  011  0  1  0;', '/* 237 */  010  0  1  0;', '/* 239 */  011  1  0  0;', '/* 240 */  010  1  0  0;', '/* 241 */  010  1  0  0;', '/* 242 */  010  1  0  0;', '/* 243 */  010  1  0  0;', '/* 250 */  010  0  0  1;', '/* 251 */  010  0  0  1;', '/* 252 */  010  0  0  1;', '/* 255 */  011  1  0  0;', '/* 256 */  010  1  0  0;', '/* 257 */  010  1  0  0;', '/* 258 */  010  1  0  0;', '/* 259 */  010  0  0  1;', '/* 260 */  010  0  0  1;', '/* 261 */  011  0  0  1;', '/* 262 */  011  0  0  1;', '/* 263 */  010  0  1  0;', '/* 264 */  010  1  0  0;', '/* 265 */  011  1  0  0;', '/* 266 */  011  1  0  0;', '/* 267 */  010  0  0  1;', '/* 268 */  010  0  0  1;', '/* 269 */  011  0  0  1;', '/* 270 */  010  1  0  0;', '/* 271 */  011  0  1  0;', '/* 272 */  010  0  1  0;', '/* 273 */  011  1  0  0;', '/* 274 */  010  1  0  0;', '/* 275 */  010  1  0  0;', '/* 276 */  011  0  1  0;', '/* 277 */  010  1  0  0;', '/* 278 */  010  0  1  0;', '/* 279 */  011  0  0  1;', '/* 280 */  010  0  0  1;', '/* 281 */  010  0  1  0;', '/* 282 */  010  0  1  0;', '/* 283 */  011  0  1  0;', '/* 284 */  010  1  0  0;', '/* 285 */  010  1  0  0;', '/* 286 */  010  1  0  0;', '/* 287 */  010  0  1  0;', '/* 288 */  011  0  1  0;', '/* 289 */  011  0  1  0;', '/* 290 */  010  1  0  0;', '/* 291 */  010  1  0  0;', '/* 292 */  010  1  0  0;', '/* 293 */  010  1  0  0;', '/* 294 */  010  1  0  0;', '/* 295 */  010  0  1  0;', '/* 296 */  010  0  1  0;', '/* 297 */  011  0  1  0;', '/* 298 */  010  1  0  0;', '/* 299 */  010  1  0  0;', '/* 300 */  010  1  0  0;', '/* 301 */  010  1  0  0;', '/* 302 */  010  0  0  1;', '/* 304 */  011  1  0  0;', '/* 305 */  010  1  0  0;', '/* 306 */  011  0  1  0;', '/* 307 */  011  1  0  0;', '/* 308 */  010  1  0  0;', '/* 309 */  011  1  0  0;', '/* 310 */  010  1  0  0;', '/* 311 */  010  0  0  1;', '/* 312 */  011  1  0  0;', '/* 313 */  011  1  0  0;', '/* 314 */  010  1  0  0;', '/* 315 */  010  1  0  0;', '/* 316 */  011  1  0  0;', '/* 317 */  011  1  0  0;', '/* 318 */  010  1  0  0;', '/* 319 */  010  1  0  0;', '/* 320 */  011  1  0  0;', '/* 321 */  011  1  0  0;', '/* 322 */  011  1  0  0;', '/* 323 */  011  1  0  0;', '/* 324 */  011  1  0  0;', '/* 325 */  010  1  0  0;', '/* 326 */  001  0  1  0;', '/* 330 */  001  0  1  0;', '/* 327 */  001  1  0  0;', '/* 328 */  001  1  0  0;', '/* 329 */  001  1  0  0;', '/* 331 */  001  0  1  0;', '/* 332 */  001  0  1  0;', '/* 333 */  001  0  1  0;', '/* 334 */  001  0  1  0;', '/* 335 */  001  0  1  0;', '/* 336 */  001  0  1  0;', '/* 337 */  001  0  1  0;', '/* 338 */  001  0  1  0;', '/* 339 */  001  0  1  0;', '/* 340 */  001  0  1  0;', '/* 341 */  001  1  0  0;', '/* 342 */  001  1  0  0;', '/* 343 */  001  1  0  0;', '/* 344 */  001  1  0  0;', '/* 345 */  001  1  0  0;', '/* 346 */  001  1  0  0;', '/* 347 */  001  1  0  0;', '/* 348 */  001  1  0  0;', '/* 349 */  001  0  0  1;', '/* 350 */  001  0  0  1;', '/* 351 */  001  0  1  0;', '/* 352 */  001  0  1  0;', '/* 353 */  001  0  1  0;', '/* 354 */  001  1  0  0;', '/* 355 */  001  1  0  0;', '/* 356 */  001  1  0  0;', '/* 357 */  001  1  0  0;', '/* 358 */  001  1  0  0;', '/* 359 */  001  0  1  0;', '/* 360 */  001  0  1  0;', '/* 361 */  001  0  1  0;', '/* 362 */  001  0  1  0;', '/* 363 */  001  0  1  0;', '/* 364 */  001  0  1  0;', '/* 365 */  001  0  1  0;', '/* 366 */  001  1  0  0;', '/* 367 */  001  1  0  0;', '/* 368 */  001  1  0  0;', '/* 369 */  001  1  0  0;', '/* 370 */  001  0  1  0;', '/* 371 */  001  0  1  0;', '/* 372 */  001  0  1  0;', '/* 373 */  001  1  0  0;', '/* 374 */  001  1  0  0;', '/* 375 */  001  0  0  1;', '/* 376 */  001  0  1  0;', '/* 377 */  001  0  1  0;', '/* 378 */  001  0  1  0;', '/* 379 */  001  0  1  0;', '/* 380 */  001  1  0  0;', '/* 381 */  001  1  0  0;', '/* 382 */  001  1  0  0;', '/* 383 */  001  1  0  0;', '/* 384 */  001  1  0  0;', '/* 385 */  001  1  0  0;', '/* 386 */  001  0  1  0;', '/* 387 */  001  0  1  0;', '/* 388 */  001  0  1  0;', '/* 389 */  001  0  1  0;', '/* 391 */  001  1  0  0;', '/* 392 */  001  1  0  0;', '/* 393 */  001  1  0  0;', '/* 394 */  001  0  1  0;', '/* 395 */  001  0  1  0;', '/* 396 */  001  1  0  0;', '/* 397 */  001  1  0  0;', '/* 398 */  001  1  0  0;', '/* 399 */  001  0  1  0;', '/* 400 */  001  0  1  0;', '/* 401 */  001  0  1  0;', '/* 402 */  001  0  1  0;', '/* 403 */  001  0  1  0;', '/* 404 */  001  0  1  0;', '/* 405 */  001  0  1  0;', '/* 406 */  001  0  1  0;', '/* 407 */  001  0  0  1;', '/* 408 */  001  0  1  0;', '/* 409 */  001  0  1  0;', '/* 410 */  001  0  1  0;', '/* 411 */  001  0  1  0;', '/* 412 */  001  1  0  0;', '/* 413 */  001  1  0  0;', '/* 414 */  001  0  1  0;', '/* 415 */  001  0  1  0;', '/* 416 */  001  0  1  0;', '/* 417 */  001  0  1  0;', '/* 418 */  001  0  1  0;', '/* 419 */  001  0  1  0;', '/* 420 */  001  0  1  0;', '/* 421 */  001  0  1  0;', '/* 422 */  001  1  0  0;', '/* 423 */  001  1  0  0;', '/* 424 */  001  0  1  0;', '/* 425 */  001  0  1  0;', '/* 426 */  001  0  1  0;', '/* 427 */  001  0  1  0;', '/* 428 */  001  0  1  0;', '/* 429 */  001  0  1  0;', '/* 454 */  001  0  0  1;', '/* 455 */  001  0  1  0;', '/* 456 */  001  1  0  0;', '/* 463 */  001  0  1  0;', '/* 464 */  001  0  1  0;', '/* 465 */  001  0  1  0;', '/* 484 */  001  1  0  0;', '/* 485 */  001  1  0  0;', '/* 486 */  001  1  0  0;', '/* 487 */  001  1  0  0;', '/* 488 */  001  0  1  0;', '/* 489 */  001  0  1  0;', '/* 490 */  001  0  1  0;', '/* 491 */  001  0  1  0;', '/* 492 */  001  0  1  0;', '/* 493 */  001  0  1  0;', '/* 494 */  001  0  1  0;', '/* 504 */  001  1  0  0;', '/* 505 */  001  1  0  0;', '/* 506 */  001  1  0  0;', '/* 507 */  001  0  1  0;']\n"
     ]
    }
   ],
   "source": [
    "# Flatten data for export\n",
    "\n",
    "def flatten_and_format_row(band_number, capture_data_dict):    \n",
    "    band_number_comment = f\"/* {band_number} */\"\n",
    "    \n",
    "    combined_year_capture_column = ''\n",
    "    for year in years:\n",
    "        combined_year_capture_column += str(capture_data_dict[year])\n",
    "\n",
    "    flattened_row_data = [band_number_comment, combined_year_capture_column] + capture_data_dict['species']\n",
    "        \n",
    "    # Program MARK uses 2 spaces as a column separator\n",
    "    separator = ' ' * 2\n",
    "    return separator.join([band_number_comment, combined_year_capture_column] + list(map(str, capture_data_dict['species']))) + ';'\n",
    "\n",
    "\n",
    "def flatten_and_format_data(results):\n",
    "    return [flatten_and_format_row(band_number, capture_data_dict) for (band_number, capture_data_dict) in results.items()]\n",
    "\n",
    "flattened_and_formatted_data = flatten_and_format_data(converted_results)\n",
    "print(flattened_and_formatted_data)"
   ]
  },
  {
   "cell_type": "code",
   "execution_count": 11,
   "id": "ec1c2b6f",
   "metadata": {},
   "outputs": [],
   "source": [
    "# Output the results to a file\n",
    "\n",
    "with open(output_filename, 'w') as output_file:\n",
    "    output_file.write(\"/* manakins -- 4 sampling occassions -- 3 groups */\\n\")\n",
    "    for formatted_row in flattened_and_formatted_data:\n",
    "        output_file.write(formatted_row + '\\n')"
   ]
  }
 ],
 "metadata": {
  "interpreter": {
   "hash": "15e6cd64a0ee722161b1d2733c8a31b4d2d73326030c547c24509c719b105ab9"
  },
  "kernelspec": {
   "display_name": "Python 3",
   "language": "python",
   "name": "python3"
  },
  "language_info": {
   "codemirror_mode": {
    "name": "ipython",
    "version": 3
   },
   "file_extension": ".py",
   "mimetype": "text/x-python",
   "name": "python",
   "nbconvert_exporter": "python",
   "pygments_lexer": "ipython3",
   "version": "3.9.5"
  }
 },
 "nbformat": 4,
 "nbformat_minor": 5
}
